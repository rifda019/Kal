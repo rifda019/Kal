{
 "cells": [
  {
   "cell_type": "markdown",
   "metadata": {},
   "source": [
    "# Sistem Persamaan Linier\n",
    "\n",
    "1. Pengertian Sistem Persamaan Linier\n",
    "Sistem persamaan linier adalah sekumpulan persamaan yang berisi variabel-variabel yang saling terhubung. Setiap persamaan dalam sistem tersebut berfungsi untuk menggambarkan hubungan linear antara variabel-variabel tersebut. \"Linear\" di sini berarti bahwa setiap variabel dalam persamaan hanya muncul dengan pangkat satu (tidak dikuadratkan atau dipangkatkan lebih tinggi), dan tidak ada variabel yang dikalikan dengan variabel lain.\n",
    "\n",
    "Misalnya, kita bisa punya dua persamaan yang menggambarkan hubungan antara dua hal, seperti jumlah dan harga barang. Masing-masing persamaan tersebut memberikan informasi yang berbeda, dan kita mencoba mencari nilai variabel yang memenuhi kedua informasi itu.\n",
    "\n",
    "2. Jenis-jenis Sistem Persamaan Linier\n",
    "Ada beberapa kemungkinan yang bisa terjadi ketika kita mencoba menyelesaikan sistem persamaan linier:\n",
    "\n",
    "1. Sistem dengan Satu Solusi: Ini terjadi ketika kedua persamaan dalam sistem memiliki satu titik pertemuan atau titik solusi yang jelas. Artinya, ada satu nilai untuk variabel yang memenuhi kedua persamaan tersebut.\n",
    "\n",
    "2. Sistem dengan Tak Terhingga Solusi: Jika kedua persamaan menggambarkan garis yang sama (tumpang tindih), maka ada banyak solusi yang memenuhi kedua persamaan tersebut. Ini berarti banyak kombinasi nilai variabel yang bisa menjadi solusi.\n",
    "\n",
    "3. Sistem yang Tidak Memiliki Solusi: Ini terjadi ketika kedua persamaan menggambarkan dua garis yang tidak pernah bertemu, misalnya dua garis yang sejajar. Dalam hal ini, tidak ada nilai variabel yang bisa memenuhi kedua persamaan tersebut.\n",
    "\n",
    "3. Metode Penyelesaian Sistem Persamaan Linier\n",
    "Ada beberapa cara untuk mencari solusi dari sistem persamaan linier. Berikut adalah penjelasan tanpa rumus matematis:\n",
    "\n",
    "1. Metode Substitusi:\n",
    "\n",
    "Dalam metode ini, kita mencoba menyelesaikan satu persamaan untuk salah satu variabel (misalnya \n",
    "𝑥\n",
    "x atau \n",
    "𝑦\n",
    "y) dan kemudian mengganti variabel tersebut ke dalam persamaan lainnya. Tujuannya adalah untuk menyederhanakan sistem menjadi satu persamaan dengan satu variabel yang lebih mudah diselesaikan.\n",
    "\n",
    "2. Metode Eliminasi:\n",
    "\n",
    "Di sini, kita mencoba untuk menghapus salah satu variabel dengan menjumlahkan atau mengurangi kedua persamaan. Dengan cara ini, kita mengubah sistem menjadi satu persamaan yang lebih mudah dipecahkan.\n",
    "\n",
    "3. Metode Matriks (Teknik Gauss):\n",
    "\n",
    "Metode ini menggunakan pendekatan yang lebih terstruktur dengan mengorganisir persamaan dalam bentuk matriks (seperti tabel angka) dan kemudian melakukan beberapa langkah untuk memanipulasi dan menyederhanakan matriks tersebut hingga kita bisa menemukan solusi.\n",
    "\n",
    "4. Metode Invers Matriks:\n",
    "\n",
    "Jika sistem persamaan dapat ditulis dalam bentuk matriks, kita bisa menggunakan cara ini untuk mencari solusi. Ini melibatkan penggunaan operasi pada matriks untuk mencari solusi yang memenuhi persamaan.\n",
    "\n",
    "5. Metode Cramer (Aturan Cramer):\n",
    "\n",
    "Metode ini lebih sederhana dan langsung, di mana kita menggunakan sifat tertentu dari matriks untuk menemukan solusi variabel-variabel dalam sistem persamaan. Namun, ini hanya bisa digunakan untuk sistem dengan jumlah persamaan yang sama dengan jumlah variabel."
   ]
  }
 ],
 "metadata": {
  "kernelspec": {
   "display_name": "Python 3",
   "language": "python",
   "name": "python3"
  },
  "language_info": {
   "codemirror_mode": {
    "name": "ipython",
    "version": 3
   },
   "file_extension": ".py",
   "mimetype": "text/x-python",
   "name": "python",
   "nbconvert_exporter": "python",
   "pygments_lexer": "ipython3",
   "version": "3.8.0"
  },
  "widgets": {
   "application/vnd.jupyter.widget-state+json": {
    "state": {},
    "version_major": 2,
    "version_minor": 0
   }
  }
 },
 "nbformat": 4,
 "nbformat_minor": 4
}
